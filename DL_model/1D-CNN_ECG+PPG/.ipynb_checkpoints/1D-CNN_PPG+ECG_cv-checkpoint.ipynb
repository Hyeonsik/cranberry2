{
 "cells": [
  {
   "cell_type": "code",
   "execution_count": 1,
   "metadata": {
    "ExecuteTime": {
     "end_time": "2020-11-19T15:41:42.991854Z",
     "start_time": "2020-11-19T15:41:42.984667Z"
    }
   },
   "outputs": [
    {
     "name": "stdout",
     "output_type": "stream",
     "text": [
      "사용가능한 cpu 개수: 40\n"
     ]
    }
   ],
   "source": [
    "import os\n",
    "print('사용가능한 cpu 개수:', os.cpu_count())"
   ]
  },
  {
   "cell_type": "markdown",
   "metadata": {},
   "source": []
  },
  {
   "cell_type": "code",
   "execution_count": 1,
   "metadata": {
    "ExecuteTime": {
     "end_time": "2020-11-22T14:44:55.175139Z",
     "start_time": "2020-11-22T14:44:45.986453Z"
    }
   },
   "outputs": [
    {
     "name": "stdout",
     "output_type": "stream",
     "text": [
      "loading train...done\n"
     ]
    }
   ],
   "source": [
    "import os\n",
    "import numpy as np\n",
    "import pandas as pd\n",
    "import tensorflow as tf\n",
    "from keras.regularizers import l2\n",
    "from keras.models import Sequential\n",
    "from keras.callbacks import EarlyStopping\n",
    "from keras.layers import Dense, Conv1D, MaxPooling1D, GlobalMaxPool1D, BatchNormalization, Dropout, Activation, GlobalAveragePooling1D, Flatten, SeparableConv1D\n",
    "from keras.layers.advanced_activations import PReLU\n",
    "from keras.wrappers.scikit_learn import KerasClassifier\n",
    "from keras.layers.core import Dense, Dropout, Activation\n",
    "from keras.layers.normalization import BatchNormalization\n",
    "from sklearn.metrics import accuracy_score\n",
    "from sklearn.model_selection import RandomizedSearchCV\n",
    "# sklearn의 grid search보다 5배 빠르다고 함\n",
    "from tune_sklearn import TuneGridSearchCV\n",
    "\n",
    "\n",
    "# training, test set loading\n",
    "if os.path.exists('../x_train.npz'):\n",
    "    print('loading train...', flush=True, end='')\n",
    "    x_train = np.load('../x_train.npz', allow_pickle=True)['arr_0']\n",
    "    y_train = np.load('../y_train.npz')['arr_0']\n",
    "    x_test = np.load('../x_test.npz', allow_pickle=True)['arr_0']\n",
    "    y_test = np.load('../y_test.npz')['arr_0']\n",
    "    print('done', flush=True)\n",
    "else:\n",
    "    print('no saved training, test set')\n",
    "\n"
   ]
  },
  {
   "cell_type": "code",
   "execution_count": 2,
   "metadata": {
    "ExecuteTime": {
     "end_time": "2020-11-22T14:44:55.222220Z",
     "start_time": "2020-11-22T14:44:55.209882Z"
    }
   },
   "outputs": [],
   "source": [
    "# KerasClassifier 사용을 위한 함수\n",
    "def build_model(num_l1=256, kernel_l1 = 10, bool_flatten=False, dropout=0.2):\n",
    "    #strategy = tf.distribute.MirroredStrategy(devices=[\"/gpu:0\", \"/gpu:1\"])\n",
    "    #with strategy.scope():\n",
    "    config = tf.compat.v1.ConfigProto()\n",
    "    config.gpu_options.allow_growth = True\n",
    "    sess = tf.compat.v1.Session(config=config)\n",
    "    model = Sequential()\n",
    "    #num_l2=64, num_l3=64, kernel_l2=3, kernel_l3=3\n",
    "    num_l2=64\n",
    "    num_l3=64\n",
    "    kernel_l2=3\n",
    "    kernel_l3=3\n",
    "\n",
    "    #for (num_node, kernel_size) in conv_layers:\n",
    "    #    model.add(Conv1D(filters=num_node, kernel_size=kernel_size, padding='valid'))\n",
    "    #    model.add(BatchNormalization())\n",
    "    #    model.add(MaxPooling1D(pool_size=2))\n",
    "\n",
    "    # Conv Layer 1\n",
    "    model.add(Conv1D(filters=num_l1, kernel_size=kernel_l1, padding='valid'))\n",
    "    model.add(BatchNormalization())\n",
    "    model.add(MaxPooling1D(pool_size=2)) \n",
    "\n",
    "    # Conv Layer 2\n",
    "    model.add(Conv1D(filters=num_l2, kernel_size=kernel_l2, padding='valid'))\n",
    "    model.add(BatchNormalization())\n",
    "    model.add(MaxPooling1D(pool_size=2)) \n",
    "\n",
    "    # Conv Layer 3\n",
    "    model.add(Conv1D(filters=num_l3, kernel_size=kernel_l3, padding='valid'))\n",
    "    model.add(BatchNormalization())\n",
    "    model.add(MaxPooling1D(pool_size=2)) \n",
    "\n",
    "    # FC layer 이전의 작업\n",
    "    if bool_flatten:\n",
    "        model.add(Flatten())\n",
    "    else:\n",
    "        model.add(GlobalMaxPool1D())\n",
    "\n",
    "    model.add(Dropout(dropout))\n",
    "    model.add(Dense(1, activation='sigmoid'))\n",
    "\n",
    "    model.compile(loss='binary_crossentropy', optimizer=Adam(lr=0.001), metrics=['accuracy'])\n",
    "\n",
    "\n",
    "    return model\n",
    "\n",
    "\n",
    "#hist = model.fit(x_train, y_train, validation_split=0.1, epochs=100, batch_size=BATCH_SIZE, #class_weight={0:1, 1:3}, \n",
    "#                            callbacks=[ModelCheckpoint(monitor='val_loss', filepath=weight_path, verbose=1, save_best_only=True),\n",
    "#                                        EarlyStopping(monitor='val_loss', patience=1, verbose=0, mode='auto')])\n",
    "    "
   ]
  },
  {
   "cell_type": "code",
   "execution_count": 3,
   "metadata": {
    "ExecuteTime": {
     "end_time": "2020-11-22T14:44:55.264199Z",
     "start_time": "2020-11-22T14:44:55.256572Z"
    }
   },
   "outputs": [],
   "source": [
    "from keras.wrappers.scikit_learn import KerasClassifier\n",
    "\n",
    "### RandomizedSearchCV 인자들 ###\n",
    "# KerasClassifier 생성\n",
    "model_keras = KerasClassifier(build_fn = build_model)\n",
    "\n",
    "# RandomSearch로 탐색할 parameters\n",
    "dropout_rate_opts  = [0, 0.1, 0.2, 0.5]\n",
    "num_l1, num_l2, num_l3 = [256, 512], [64, 128, 256], [64, 128, 256]\n",
    "kernel_l1, kernel_l2, kernel_l3 = [3, 15], [3, 5, 10, 15], [3, 5, 10, 15]\n",
    "\n",
    "# param_distributions\n",
    "keras_param_options = {\n",
    "    'num_l1': num_l1, # 'num_l2': num_l2, 'num_l3': num_l3,\n",
    "    'kernel_l1': kernel_l1, # 'kernel_l2': kernel_l2, 'kernel_l3': kernel_l3,\n",
    "    'bool_flatten': [True, False],\n",
    "    'dropout': dropout_rate_opts#, 'batch_size': [256, 512]\n",
    "}\n",
    "\n",
    "\n",
    "# randomizedSearchCV\n",
    "random_search = RandomizedSearchCV(model_keras, param_distributions=keras_param_options,\n",
    "    scoring='roc_auc', n_iter=2, cv=2, n_jobs=1, verbose=1)\n"
   ]
  },
  {
   "cell_type": "code",
   "execution_count": null,
   "metadata": {
    "ExecuteTime": {
     "start_time": "2020-11-22T14:44:57.239Z"
    }
   },
   "outputs": [
    {
     "name": "stdout",
     "output_type": "stream",
     "text": [
      "Fitting 2 folds for each of 2 candidates, totalling 4 fits\n"
     ]
    },
    {
     "name": "stderr",
     "output_type": "stream",
     "text": [
      "[Parallel(n_jobs=1)]: Using backend SequentialBackend with 1 concurrent workers.\n"
     ]
    }
   ],
   "source": [
    "# fit_params\n",
    "callbacks = [EarlyStopping(monitor='val_loss', patience=5, verbose=0, mode='auto')]\n",
    "keras_fit_params = {\n",
    "    'callbacks': callbacks, 'epoch': 100, 'batch_size': 512, 'verbose': 0\n",
    "}\n",
    "\n",
    "# start finding hyperparameters\n",
    "random_search.fit(x_train, y_train, fit_params = keras_fit_params)\n",
    "\n",
    "\n",
    "# results\n",
    "print('Best score obtained: {0}'.format(rs_keras.best_score_))\n",
    "print('Parameters:')\n",
    "for param, value in rs_keras.best_params_.items():\n",
    "    print('\\t{}: {}'.format(param, value))"
   ]
  },
  {
   "cell_type": "code",
   "execution_count": null,
   "metadata": {},
   "outputs": [],
   "source": []
  },
  {
   "cell_type": "code",
   "execution_count": null,
   "metadata": {},
   "outputs": [],
   "source": []
  },
  {
   "cell_type": "code",
   "execution_count": null,
   "metadata": {},
   "outputs": [],
   "source": []
  },
  {
   "cell_type": "code",
   "execution_count": null,
   "metadata": {},
   "outputs": [],
   "source": []
  }
 ],
 "metadata": {
  "kernelspec": {
   "display_name": "Python 3",
   "language": "python",
   "name": "python3"
  },
  "language_info": {
   "codemirror_mode": {
    "name": "ipython",
    "version": 3
   },
   "file_extension": ".py",
   "mimetype": "text/x-python",
   "name": "python",
   "nbconvert_exporter": "python",
   "pygments_lexer": "ipython3",
   "version": "3.6.9"
  },
  "toc": {
   "base_numbering": 1,
   "nav_menu": {},
   "number_sections": true,
   "sideBar": true,
   "skip_h1_title": false,
   "title_cell": "Table of Contents",
   "title_sidebar": "Contents",
   "toc_cell": false,
   "toc_position": {},
   "toc_section_display": true,
   "toc_window_display": false
  },
  "varInspector": {
   "cols": {
    "lenName": 16,
    "lenType": 16,
    "lenVar": 40
   },
   "kernels_config": {
    "python": {
     "delete_cmd_postfix": "",
     "delete_cmd_prefix": "del ",
     "library": "var_list.py",
     "varRefreshCmd": "print(var_dic_list())"
    },
    "r": {
     "delete_cmd_postfix": ") ",
     "delete_cmd_prefix": "rm(",
     "library": "var_list.r",
     "varRefreshCmd": "cat(var_dic_list()) "
    }
   },
   "oldHeight": 122,
   "position": {
    "height": "179px",
    "left": "1536px",
    "right": "20px",
    "top": "97px",
    "width": "349px"
   },
   "types_to_exclude": [
    "module",
    "function",
    "builtin_function_or_method",
    "instance",
    "_Feature"
   ],
   "varInspector_section_display": "block",
   "window_display": true
  }
 },
 "nbformat": 4,
 "nbformat_minor": 4
}
