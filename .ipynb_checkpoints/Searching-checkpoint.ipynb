{
 "cells": [
  {
   "cell_type": "markdown",
   "metadata": {},
   "source": [
    "## Markdown Syntax"
   ]
  },
  {
   "cell_type": "markdown",
   "metadata": {},
   "source": [
    "- [Markdown 문법](https://velog.io/@wonhs717/%EB%A7%88%ED%81%AC%EB%8B%A4%EC%9A%B4Markdown-%EB%AC%B8%EB%B2%95-ytk5zemk0x)"
   ]
  },
  {
   "cell_type": "markdown",
   "metadata": {},
   "source": [
    "## Batch Normalization"
   ]
  },
  {
   "cell_type": "markdown",
   "metadata": {},
   "source": [
    "- [Batch Normalization 설명 및 구현](https://shuuki4.wordpress.com/2016/01/13/batch-normalization-%EC%84%A4%EB%AA%85-%EB%B0%8F-%EA%B5%AC%ED%98%84/)"
   ]
  },
  {
   "cell_type": "markdown",
   "metadata": {},
   "source": [
    "## Allocation of GPU<br>\n",
    "\n",
    "- 하나의 GPU 할당 방법<br>\n",
    "```python\n",
    "    with tf.device('/gpu:1'):\n",
    "         ### model = ... (model를 만들어서 compile하고 fit 해주면 됨) \n",
    "```\n",
    "---\n",
    "- [여러개의 GPU 할당 방법](https://ahnjg.tistory.com/34)<br>\n",
    "```python \n",
    "    strategy = tf.distribute.MirroredStrategy(devices=[\"/gpu:2\", \"/gpu:3\"])\n",
    "    with strategy.scope():\n",
    "        ### model = ... (model를 만들어서 compile하고 fit 해주면 됨) \n",
    "```\n",
    "---\n",
    "- GPU 확인법 (jupyter notebook에서 command line 실행)\n",
    "```python\n",
    "    !nvidia-smi\n",
    "```"
   ]
  },
  {
   "cell_type": "markdown",
   "metadata": {},
   "source": [
    "## Keras.model 그리기"
   ]
  },
  {
   "cell_type": "markdown",
   "metadata": {},
   "source": [
    "- [Model plotting utilities](https://keras.io/api/utils/model_plotting_utils/)\n",
    "```python\n",
    "    tf.keras.utils.plot_model(model, to_file=dot_img_file, show_shapes=True)\n",
    "```\n",
    "---\n"
   ]
  },
  {
   "cell_type": "markdown",
   "metadata": {},
   "source": [
    "- ..\n",
    " - required: pydot, anaconda, graphviz를 설치하고 안될 경우 path 설정까지"
   ]
  },
  {
   "cell_type": "markdown",
   "metadata": {},
   "source": [
    "## Keras 모델 저장 및 불러오기"
   ]
  },
  {
   "cell_type": "markdown",
   "metadata": {},
   "source": [
    "- **모델의 아키텍처 및 구조 저장:**   model.to_json()으로 모델의 구조 정보를 가져오고'model.json' 형태로 저장 후 model_from_json으로 불러오기\n",
    "- **모델의 weights 저장:** 'weights.hdf5' 형태로 저장하고 model.load_weights(weight_path)로 불러오기 <br><br>\n",
    "- **모델의 모든 정보 저장:** [Keras 모델 저장 및 로드](https://www.tensorflow.org/guide/keras/save_and_serialize?hl=ko) <br>\n",
    " -- model.save()로 저장하면 폴더를 생성함 - 모델 아키텍처 및 훈련 구성(옵티마이저, 손실 및 메트릭 포함)은 saved_model.pb에 저장됩니다. 가중치는 variables/ 디렉토리에 저장 <br>\n",
    " -- tf.keras.models.save_model()로 'model.h5' 형태로 저장 후 tf.keras.models.load_model()로  불러옴. \n"
   ]
  },
  {
   "cell_type": "markdown",
   "metadata": {},
   "source": [
    "## Deep Learning Model"
   ]
  },
  {
   "cell_type": "markdown",
   "metadata": {},
   "source": [
    "###  global max pooling layer:  [StackExchange Link]('https://stats.stackexchange.com/questions/257321/what-is-global-max-pooling-layer-and-what-is-its-advantage-over-maxpooling-layer')\n",
    "<Blockquote> \n",
    "As described in this paper that proposed global average pooling (GAP): <br><br>\n",
    "Conventional convolutional neural networks perform convolution in the lower layers of the network. For classification, the feature maps of the last convolutional layer are vectorized and fed into fully connected layers followed by a softmax logistic regression layer. This structure bridges the convolutional structure with traditional neural network classifiers. It treats the convolutional layers as feature extractors, and the resulting feature is classified in a traditional way. <br><br>\n",
    "However, the fully connected layers are prone to overfitting, thus hampering the generalization ability of the overall network. Dropout is proposed by Hinton et al as a regularizer which randomly sets half of the activations to the fully connected layers to zero during training. It has improved the generalization ability and largely prevents overfitting. <br><br>\n",
    "In this paper, we propose another strategy called global average pooling to replace the traditional fully connected layers in CNN. The idea is to generate one feature map for each corresponding category of the classification task in the last mlpconv layer. Instead of adding fully connected layers on top of the feature maps, we take the average of each feature map, and the resulting vector is fed directly into the softmax layer. One advantage of global average pooling over the fully connected layers is that it is more native to the convolution structure by enforcing correspondences between feature maps and categories. Thus the feature maps can be easily interpreted as categories confidence maps. Another advantage is that there is no parameter to optimize in the global average pooling thus overfitting is avoided at this layer. Futhermore, global average pooling sums out the spatial information, thus it is more robust to spatial translations of the input. We can see global average pooling as a structural regularizer that explicitly enforces feature maps to be confidence maps of concepts (categories). This is made possible by the mlpconv layers, as they makes better approximation to the confidence maps than GLMs.\n",
    "</Blockquote>"
   ]
  },
  {
   "cell_type": "markdown",
   "metadata": {},
   "source": [
    "## K-fold cross validation"
   ]
  },
  {
   "cell_type": "markdown",
   "metadata": {},
   "source": [
    "- K-fold cross validation은 hyperparameter를 찾기 위한 방법\n",
    "- training set을 k-fold로 나눠서 형성된 k개의 (Training, Test) set를 각각 학습시켜서 accuracy를 계산\n",
    "- 이렇게 결정된 hyperparameter들로 최종 모델을 만들고 다시 학습(이땐 그냥 validation을 split해서 나눠도 무방)\n",
    "- 최종 성능 평가는 처음에 따로 빼둔 test set에 대해 계산\n",
    "- 애초에 validation set이란 최적의 모델을 찾기 위해 만든 set이기 때문!!!"
   ]
  },
  {
   "cell_type": "markdown",
   "metadata": {},
   "source": [
    "## Hyperparameter Optimization(Tuning)"
   ]
  },
  {
   "cell_type": "markdown",
   "metadata": {},
   "source": [
    "- 대표적으로 grid search와 random search가 있음. grid search는 모든 hyperparameter 조합에 대해서 알아보는 것으로 golden standard이긴 하지만 시간이 오래 걸림. 그래서 보통 random search를 많이 함.\n",
    "- 참고: [Random Search vs Grid Search](https://shwksl101.github.io/ml/dl/2019/01/30/Hyper_parameter_optimization.html)"
   ]
  },
  {
   "cell_type": "markdown",
   "metadata": {},
   "source": [
    "- python은 sklearn에서 GridSearchCV와 RandomizedSearchCV를 제공\n",
    "```python\n",
    "    from sklearn.model_selection import GridSearchCV, RandomizedSearchCV\n",
    "```\n",
    " - 공식 사이트: [sklearn.model_selection.RandomizedSearchCV](https://scikit-learn.org/stable/modules/generated/sklearn.model_selection.RandomizedSearchCV.html)\n",
    " \n",
    "- grid search나 random search를 keras model에 적용한 예시 \n",
    "  - KerasClassifier 이용; [Grid 예시1](https://www.kaggle.com/arrogantlymodest/randomised-cv-search-over-keras-neural-network),   **[Random 예시1](http://ethen8181.github.io/machine-learning/keras/nn_keras_hyperparameter_tuning.html)**\n",
    "    - keras로 딥러닝 모델을 짠 경우, KerasClassifier에 keras 모델을 함수 형태로 집어넣고 scikit-learn의 RandomizedSearchCV나 GridSearchCV를 이용\n",
    "    - [KerasClassifier 사용 예시](https://buomsoo-kim.github.io/keras/2019/07/12/Easy-deep-learning-with-Keras-19.md/)\n",
    "    - 참고로 regression은 KerasRegressor(build_fn=None, **sk_params)가 있음\n",
    "    > The build_fn should construct, compile and return a Keras model, which will then be used to fit/predict. One of the following three values could be passed to build_fn:\n",
    "    > 1. A function\n",
    "    > 2. An instance of a class that implements the __call__ method\n",
    "    > 3. None. This means you implement a class that inherits from either\n",
    "KerasClassifier or KerasRegressor. The __call__ method of the present class will then be treated as the default build_fn.\n",
    "...\n",
    "sk_params takes both model parameters and fitting parameters. Legal model parameters are the arguments of build_fn. Note that like all other estimators in scikit-learn, build_fn should provide default values for its arguments, so that you could create the estimator without passing any values to sk_params.\n",
    "  - Visualization\n",
    "    - [[ Python ] Scikit-Learn Pipeline + RandomizedSearchCV + shap,eli5](https://data-newbie.tistory.com/366)\n",
    "    \n",
    "    \n",
    "    \n",
    "<br><br>\n",
    "- multi-core를 사용하는 방법(training, evaluation, hyperparamter tuning) ([참고](https://machinelearningmastery.com/multi-core-machine-learning-in-python/))\n",
    "  - os.cpu_count()로 사용가능한 cpu 개수 알 수 있음 (python 3.4 이상. 3.4이하에선 multiprocessing.cpu_count())\n",
    "  - scikit learn의 n_jobs 인자에서 이를 결정\n",
    "    - n_jobs=-1은 가능한 모든 CPU 사용\n",
    "    - hyperparamter tuning할 때 searching에 multi-core 몰빵하는게 효율적\n",
    "  - [tune-sklearn](https://towardsdatascience.com/5x-faster-scikit-learn-parameter-tuning-in-5-lines-of-code-be6bdd21833c)"
   ]
  },
  {
   "cell_type": "markdown",
   "metadata": {},
   "source": [
    "## 모델 성능 평가(binary classification)"
   ]
  },
  {
   "cell_type": "markdown",
   "metadata": {},
   "source": [
    "- AUPRC [링크1](https://m.blog.naver.com/sw4r/221681933731)\n",
    "  - precision : positive predictive value로 TP / (TP + FP). 즉 내가 답이라고 예측한 값 중 얼마나 잘 맞추었는지\n",
    "  - recall : sensitivity, true positive rate. TP / (TP + FN). 즉 실제 positive 중 얼마나 잘 예측하는지\n",
    "  - F1 score : 2 x (precision x recall) / (precision + recall). 즉, preicison과 recall의 조화 평균\n",
    "  - Precision-Recall curve (x축이 recall, y축이 precision)\n",
    " <br> \n",
    "- AUROC [링크1](https://riptutorial.com/ko/machine-learning/example/14446/auroc--receiver-operating-characteristic--%EA%B3%A1%EC%84%A0-%EC%95%84%EB%9E%98-%EC%98%81%EC%97%AD)\n",
    "<br>\n",
    "- specificity : true negative rate. TN / (FP+TN)\n",
    "  - [참고](https://www.healthnewsreview.org/toolkit/tips-for-understanding-studies/understanding-medical-tests-sensitivity-specificity-and-positive-predictive-value/)\n",
    "    - sensitive: 실제 임신한 사람 중 임신했는지를 얼마나 잘 맞추는가\n",
    "    - specific: 임신 안 한 사람 중 임신안했는지를 얼마나 잘 맞추는가\n",
    "    "
   ]
  },
  {
   "cell_type": "markdown",
   "metadata": {},
   "source": [
    "## Class weight, sample weight in keras.model.fit"
   ]
  },
  {
   "cell_type": "markdown",
   "metadata": {},
   "source": [
    "[How to set sample_weight in Keras?](https://androidkt.com/set-sample-weight-in-keras/)"
   ]
  },
  {
   "cell_type": "markdown",
   "metadata": {
    "ExecuteTime": {
     "end_time": "2020-11-22T15:21:28.953151Z",
     "start_time": "2020-11-22T15:21:28.944396Z"
    }
   },
   "source": [
    "[Deep Learning With Weighted Cross Entropy Loss On Imbalanced Tabular Data Using FastAI](https://towardsdatascience.com/deep-learning-with-weighted-cross-entropy-loss-on-imbalanced-tabular-data-using-fastai-fe1c009e184c)"
   ]
  },
  {
   "cell_type": "markdown",
   "metadata": {},
   "source": [
    "## 파이썬으로 파일 옮기기, 이름 바꾸기"
   ]
  },
  {
   "cell_type": "markdown",
   "metadata": {},
   "source": [
    "- 예시 코드\n",
    "```python\n",
    "    # 필요한 모듈\n",
    "    import shutil, os\n",
    "\n",
    "    # 폴더의 하위 파일 이름 가져오기\n",
    "    cache_path = 'cache/PPG'\n",
    "    file_list = os.listdir(cache_path)\n",
    "\n",
    "    # 파일 위치 바꾸기\n",
    "    for file_name in file_list:\n",
    "        if 'PACU1_12' in file_name:\n",
    "            print(file_name)\n",
    "            shutil.move('cache/PPG2/'+file_name, 'cache/PPG/'+file_name)\n",
    "\n",
    "    # 파일 이름 바꾸기\n",
    "    for file_name in file_list:\n",
    "        if 'hbi_ppga2_' in file_name:\n",
    "            mod_name = 'hbi_ppga_' +file_name[10:]\n",
    "            print(file_name, '...changed')\n",
    "            os.rename(os.path.join(cache_path,file_name), os.path.join(cache_path,mod_name))\n",
    "            \n",
    "    # 파일 복사해서 옮기기 \n",
    "    shutil.copy(옮기고싶은 파일, 옮기려는 곳) # 옮기려는 곳이 디렉토리면 그 하위로, 파일이면 옮기고 싶은 파일로 대체\n",
    "    shutil.cpy2( `` ) # 파일의 모든 메타 정보까지 옮김 \n",
    "```\n",
    "  - [파일 복사 관련 링크](https://blog.naver.com/PostView.nhn?blogId=hankrah&logNo=221832296707&categoryNo=51&parentCategoryNo=0&viewDate=&currentPage=1&postListTopCurrentPage=1&from=postView)"
   ]
  },
  {
   "cell_type": "markdown",
   "metadata": {},
   "source": [
    "## Python graph plotting"
   ]
  },
  {
   "cell_type": "markdown",
   "metadata": {},
   "source": [
    "### Plane graph"
   ]
  },
  {
   "cell_type": "code",
   "execution_count": null,
   "metadata": {},
   "outputs": [],
   "source": []
  },
  {
   "cell_type": "markdown",
   "metadata": {},
   "source": [
    "- plt.figure(figsize=(10, 5)) 를 하면 새로운 figure를 형성\n",
    "- 그래프 여러개를 그리고 싶을때(예를 들어 2x2), subplots나 subplot를 이용 ([차이점](https://m.blog.naver.com/PostView.nhn?blogId=heygun&logNo=221520454294&proxyReferer=https:%2F%2Fwww.google.com%2F))\n",
    "\n",
    "> fig, axes = subplots(nrows=2, ncols=1)\n",
    "\n",
    " - fig는 figure로 subplots로 소환된 그래프 전체를 지칭\n",
    " - axes는 ax들의 리스트. nrows x ncols 만큼 형성\n",
    " \n",
    "> ax = subplot(2,1,1)\n",
    "\n",
    " - ax는 개별 figure만 지칭\n",
    " \n",
    "> fig = plt.figure(figsize=(20,10)) <br>\n",
    "ax1 = fig.add_subplot(2,1,1)<br>\n",
    "ax1.plot(~)<br>\n",
    "ax1.set_xlim, set_title 등등\n",
    "\n",
    " - subplot과 비슷한 방식"
   ]
  },
  {
   "cell_type": "markdown",
   "metadata": {},
   "source": [
    "### [눈금(ticks) 설정](https://kongdols-room.tistory.com/84)"
   ]
  },
  {
   "cell_type": "code",
   "execution_count": null,
   "metadata": {},
   "outputs": [],
   "source": []
  },
  {
   "cell_type": "markdown",
   "metadata": {},
   "source": [
    "## Python Histogram Plotting ([Link](https://realpython.com/python-histograms/))\n",
    "- dictionary\n",
    "```python\n",
    "    from collections import Counter\n",
    "    Counter(a) # return dictionary\n",
    "``` \n",
    "<br>\n",
    "- Visualization\n",
    "  - matplotlib.pyplot의 hist 함수 이용\n",
    "    - bins: histogram 값의 기준값 설정 (ex. [0, 1, 2, 3]으로 하면 0, 1, 2, 3에 대한 빈도를 표현함) \n",
    " - pandas의 pd.Series.plot.hist 이용"
   ]
  },
  {
   "cell_type": "code",
   "execution_count": 2,
   "metadata": {
    "ExecuteTime": {
     "end_time": "2020-11-18T13:26:18.967000Z",
     "start_time": "2020-11-18T13:26:18.409146Z"
    },
    "scrolled": false
   },
   "outputs": [
    {
     "data": {
      "text/plain": [
       "(0.0, 80.0)"
      ]
     },
     "execution_count": 2,
     "metadata": {},
     "output_type": "execute_result"
    },
    {
     "data": {
      "image/png": "[encoded data removed]",
      "text/plain": [
       "<Figure size 432x288 with 1 Axes>"
      ]
     },
     "metadata": {
      "needs_background": "light"
     },
     "output_type": "display_data"
    }
   ],
   "source": [
    "import matplotlib.pyplot as plt\n",
    "\n",
    "d = np.random.laplace(loc=15, scale=3, size=500)\n",
    "# An \"interface\" to matplotlib.axes.Axes.hist() method\n",
    "n, bins, patches = plt.hist(x=d, bins='auto', color='#0504aa', alpha=0.7, rwidth=0.85)\n",
    "plt.grid(axis='y', alpha=0.75)\n",
    "plt.xlabel('Value')\n",
    "plt.ylabel('Frequency')\n",
    "plt.title('My Very Own Histogram')\n",
    "plt.text(23, 45, r'$\\mu=15, b=3$')\n",
    "maxfreq = n.max()\n",
    "# Set a clean upper y-axis limit.\n",
    "plt.ylim(ymax=np.ceil(maxfreq / 10) * 10 if maxfreq % 10 else maxfreq + 10)"
   ]
  },
  {
   "cell_type": "code",
   "execution_count": 3,
   "metadata": {
    "ExecuteTime": {
     "end_time": "2020-11-18T13:27:27.459263Z",
     "start_time": "2020-11-18T13:27:26.938908Z"
    },
    "scrolled": true
   },
   "outputs": [
    {
     "data": {
      "image/png": "[encoded data removed]",
      "text/plain": [
       "<Figure size 432x288 with 1 Axes>"
      ]
     },
     "metadata": {
      "needs_background": "light"
     },
     "output_type": "display_data"
    }
   ],
   "source": [
    "import pandas as pd\n",
    "\n",
    "# Generate data on commute times.\n",
    "size, scale = 1000, 10\n",
    "commutes = pd.Series(np.random.gamma(scale, size=size) ** 1.5)\n",
    "\n",
    "commutes.plot.hist(grid=True, bins=20, rwidth=0.9,\n",
    "                   color='#607c8e')\n",
    "plt.title('Commute Times for 1,000 Commuters')\n",
    "plt.xlabel('Counts')\n",
    "plt.ylabel('Commute Time')\n",
    "plt.grid(axis='y', alpha=0.75)"
   ]
  },
  {
   "cell_type": "markdown",
   "metadata": {},
   "source": [
    "## 편리한 python 문법"
   ]
  },
  {
   "cell_type": "markdown",
   "metadata": {},
   "source": [
    "### Enumerate"
   ]
  },
  {
   "cell_type": "markdown",
   "metadata": {},
   "source": [
    "- for 문에서 몇번째 index 돌리는지 알고 싶을때 사용\n",
    "```python\n",
    "    for i, element in enumerate(list_ex):\n",
    "        # enumerate는 (idx 번호, 컬렉션의 원소)를 반환\n",
    "```\n",
    "- 첫 번째 케이스만 다르게 돌리고 싶은 경우 사용하면 좋음\n",
    "```python\n",
    "    for i, element in enumerate(list_ex):\n",
    "        if i:\n",
    "            #첫 번째 원소에 대해 처리하고 싶은 내용\n",
    "```"
   ]
  },
  {
   "cell_type": "markdown",
   "metadata": {},
   "source": [
    "## Watermark 모듈"
   ]
  },
  {
   "cell_type": "markdown",
   "metadata": {},
   "source": [
    "[Jupyter notebook 매직 커맨드로 모듈 버전, OS 정보 등을 출력하는 watermark 모듈](https://pinkwink.kr/1235)"
   ]
  },
  {
   "cell_type": "code",
   "execution_count": null,
   "metadata": {},
   "outputs": [],
   "source": []
  },
  {
   "cell_type": "markdown",
   "metadata": {},
   "source": [
    "## 의학연구에서 실수하기 쉬운 부분들"
   ]
  },
  {
   "cell_type": "markdown",
   "metadata": {},
   "source": [
    "### Training set, Test set split"
   ]
  },
  {
   "cell_type": "markdown",
   "metadata": {},
   "source": [
    "한 환자에서 여러개의 데이터를 뽑아내는 경우, 이들 전체를 shuffle해서 training, test set 나누면 안됨"
   ]
  },
  {
   "cell_type": "code",
   "execution_count": null,
   "metadata": {},
   "outputs": [],
   "source": []
  },
  {
   "cell_type": "code",
   "execution_count": null,
   "metadata": {},
   "outputs": [],
   "source": []
  },
  {
   "cell_type": "markdown",
   "metadata": {},
   "source": [
    "## Unsolved Questions"
   ]
  },
  {
   "cell_type": "markdown",
   "metadata": {},
   "source": [
    "1. y를 event 발생이라고 뒀을 때, non-event 사건은 얼마나 뽑아야 하는지\n",
    "<br> ex) 뇌파에서 특정 spike를 detect하는데 특정 spike와  "
   ]
  },
  {
   "cell_type": "code",
   "execution_count": null,
   "metadata": {},
   "outputs": [],
   "source": []
  },
  {
   "cell_type": "markdown",
   "metadata": {},
   "source": [
    "- [RNN visualization](https://github.com/OverLordGoldDragon/see-rnn)"
   ]
  }
 ],
 "metadata": {
  "kernelspec": {
   "display_name": "Python 3",
   "language": "python",
   "name": "python3"
  },
  "language_info": {
   "codemirror_mode": {
    "name": "ipython",
    "version": 3
   },
   "file_extension": ".py",
   "mimetype": "text/x-python",
   "name": "python",
   "nbconvert_exporter": "python",
   "pygments_lexer": "ipython3",
   "version": "3.6.9"
  },
  "toc": {
   "base_numbering": 1,
   "nav_menu": {},
   "number_sections": true,
   "sideBar": true,
   "skip_h1_title": false,
   "title_cell": "Table of Contents",
   "title_sidebar": "Contents",
   "toc_cell": false,
   "toc_position": {},
   "toc_section_display": true,
   "toc_window_display": false
  },
  "varInspector": {
   "cols": {
    "lenName": 16,
    "lenType": 16,
    "lenVar": 40
   },
   "kernels_config": {
    "python": {
     "delete_cmd_postfix": "",
     "delete_cmd_prefix": "del ",
     "library": "var_list.py",
     "varRefreshCmd": "print(var_dic_list())"
    },
    "r": {
     "delete_cmd_postfix": ") ",
     "delete_cmd_prefix": "rm(",
     "library": "var_list.r",
     "varRefreshCmd": "cat(var_dic_list()) "
    }
   },
   "types_to_exclude": [
    "module",
    "function",
    "builtin_function_or_method",
    "instance",
    "_Feature"
   ],
   "window_display": false
  }
 },
 "nbformat": 4,
 "nbformat_minor": 4
}
