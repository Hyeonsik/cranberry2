{
 "cells": [
  {
   "cell_type": "code",
   "execution_count": 26,
   "metadata": {
    "ExecuteTime": {
     "end_time": "2020-11-20T15:25:58.246476Z",
     "start_time": "2020-11-20T15:25:57.460571Z"
    },
    "scrolled": true
   },
   "outputs": [
    {
     "name": "stdout",
     "output_type": "stream",
     "text": [
      "origin\thttps://github.com/Hyeonsik/cranberry.git (fetch)\r\n",
      "origin\thttps://github.com/Hyeonsik/cranberry.git (push)\r\n"
     ]
    }
   ],
   "source": [
    "!git remote -v"
   ]
  },
  {
   "cell_type": "code",
   "execution_count": 8,
   "metadata": {
    "ExecuteTime": {
     "end_time": "2020-11-20T15:11:55.569300Z",
     "start_time": "2020-11-20T15:11:54.798177Z"
    },
    "scrolled": false
   },
   "outputs": [
    {
     "name": "stdout",
     "output_type": "stream",
     "text": [
      ".     .gitignore\t  Discussion.ipynb  Searching.ipynb\r\n",
      "..    .ipynb_checkpoints  File_info.ipynb   file_name_test\r\n",
      ".git  DL_model\t\t  Preprocessing     git_command.ipynb\r\n"
     ]
    }
   ],
   "source": [
    "# 현재 디렉토리 내 모든 파일(+숨긴파일)\n",
    "!ls -a"
   ]
  },
  {
   "cell_type": "code",
   "execution_count": 6,
   "metadata": {
    "ExecuteTime": {
     "end_time": "2020-11-20T13:46:08.909327Z",
     "start_time": "2020-11-20T13:46:08.137350Z"
    }
   },
   "outputs": [
    {
     "name": "stdout",
     "output_type": "stream",
     "text": [
      "\u001b[33mcommit 6acc2e4eee4883c70e97ed1a89c878a95d70cd84\u001b[m\u001b[33m (\u001b[m\u001b[1;36mHEAD -> \u001b[m\u001b[1;32mmaster\u001b[m\u001b[33m, \u001b[m\u001b[1;31morigin/master\u001b[m\u001b[33m, \u001b[m\u001b[1;31morigin/HEAD\u001b[m\u001b[33m)\u001b[m\r\n",
      "Author: hyeonsik <hyeonsik98@naver.com>\r\n",
      "Date:   Mon Nov 16 13:16:03 2020 +0000\r\n",
      "\r\n",
      "    add file\r\n",
      "\r\n",
      "\u001b[33mcommit 6aa29a47a2119dfe250e1916dde89326e94e945c\u001b[m\r\n",
      "Author: hyeonsik <hyeonsik98@naver.com>\r\n",
      "Date:   Mon Nov 16 13:07:25 2020 +0000\r\n",
      "\r\n",
      "    least needed files\r\n"
     ]
    }
   ],
   "source": [
    "# git commit history\n",
    "!git log"
   ]
  },
  {
   "cell_type": "code",
   "execution_count": 25,
   "metadata": {
    "ExecuteTime": {
     "end_time": "2020-11-20T15:25:33.388945Z",
     "start_time": "2020-11-20T15:25:32.613085Z"
    },
    "scrolled": true
   },
   "outputs": [
    {
     "name": "stdout",
     "output_type": "stream",
     "text": [
      "On branch master\r\n",
      "Your branch is ahead of 'origin/master' by 2 commits.\r\n",
      "  (use \"git push\" to publish your local commits)\r\n",
      "\r\n",
      "Untracked files:\r\n",
      "  (use \"git add <file>...\" to include in what will be committed)\r\n",
      "\r\n",
      "\t\u001b[31m.ipynb_checkpoints/\u001b[m\r\n",
      "\t\u001b[31mDL_model/\u001b[m\r\n",
      "\t\u001b[31mDiscussion.ipynb\u001b[m\r\n",
      "\t\u001b[31mFile_info.ipynb\u001b[m\r\n",
      "\t\u001b[31mPreprocessing/.ipynb_checkpoints/\u001b[m\r\n",
      "\t\u001b[31mPreprocessing/Data_Preprocessing_copy2.ipynb\u001b[m\r\n",
      "\t\u001b[31mPreprocessing/Data_Preprocessing_copy3.ipynb\u001b[m\r\n",
      "\t\u001b[31mPreprocessing/Data_Preprocessing_copy4.ipynb\u001b[m\r\n",
      "\t\u001b[31mPreprocessing/Detecting_Peak.ipynb\u001b[m\r\n",
      "\t\u001b[31mPreprocessing/Detecting_Peak_copy2.ipynb\u001b[m\r\n",
      "\t\u001b[31mPreprocessing/Detecting_Peak_copy3.ipynb\u001b[m\r\n",
      "\t\u001b[31mPreprocessing/Detecting_Peak_copy4.ipynb\u001b[m\r\n",
      "\t\u001b[31mPreprocessing/ECG_250Hz.zip\u001b[m\r\n",
      "\t\u001b[31mPreprocessing/NRS_vital_pickle.zip\u001b[m\r\n",
      "\t\u001b[31mPreprocessing/NRS_vital_pickle_unzip/\u001b[m\r\n",
      "\t\u001b[31mPreprocessing/PACU_vital/\u001b[m\r\n",
      "\t\u001b[31mPreprocessing/Preprocessing_info.ipynb\u001b[m\r\n",
      "\t\u001b[31mPreprocessing/SPI_model_SNUH.ipynb\u001b[m\r\n",
      "\t\u001b[31mPreprocessing/SPI_test_set.zip\u001b[m\r\n",
      "\t\u001b[31mPreprocessing/SPI_test_set/\u001b[m\r\n",
      "\t\u001b[31mPreprocessing/cache/\u001b[m\r\n",
      "\t\u001b[31mPreprocessing/preop.zip\u001b[m\r\n",
      "\t\u001b[31mPreprocessing/pyvital2.zip\u001b[m\r\n",
      "\t\u001b[31mPreprocessing/pyvital2/\u001b[m\r\n",
      "\t\u001b[31mSearching.ipynb\u001b[m\r\n",
      "\t\u001b[31mfile_name_test\u001b[m\r\n",
      "\t\u001b[31mgit_command.ipynb\u001b[m\r\n",
      "\r\n",
      "nothing added to commit but untracked files present (use \"git add\" to track)\r\n"
     ]
    }
   ],
   "source": [
    "!git status"
   ]
  },
  {
   "cell_type": "code",
   "execution_count": 24,
   "metadata": {
    "ExecuteTime": {
     "end_time": "2020-11-20T15:19:27.579757Z",
     "start_time": "2020-11-20T15:19:26.621424Z"
    }
   },
   "outputs": [
    {
     "name": "stdout",
     "output_type": "stream",
     "text": [
      "[master 2477ab5] medic2020_4thweek\n",
      " 4 files changed, 3056 insertions(+), 35794 deletions(-)\n",
      " delete mode 100644 DL_model/1D-CNN.ipynb\n",
      " rewrite Preprocessing/Data_Preprocessing.ipynb (64%)\n",
      " delete mode 100644 Preprocessing/cache/df_preprocess_total\n"
     ]
    }
   ],
   "source": [
    "#!git add .\n",
    "\n",
    "### git add 취소\n",
    "#!git reset HEAD\n",
    "\n",
    "!git commit -am 'medic2020_4thweek'\n",
    "\n",
    "#!git remote -v"
   ]
  },
  {
   "cell_type": "code",
   "execution_count": 28,
   "metadata": {
    "ExecuteTime": {
     "end_time": "2020-11-20T15:26:37.948963Z",
     "start_time": "2020-11-20T15:26:29.216347Z"
    }
   },
   "outputs": [
    {
     "name": "stdout",
     "output_type": "stream",
     "text": [
      "Username for 'https://github.com': ^C\n"
     ]
    },
    {
     "ename": "NameError",
     "evalue": "name 'Hyeonsik' is not defined",
     "output_type": "error",
     "traceback": [
      "\u001b[0;31m---------------------------------------------------------------------------\u001b[0m",
      "\u001b[0;31mNameError\u001b[0m                                 Traceback (most recent call last)",
      "\u001b[0;32m<ipython-input-28-69bb8b9d0c81>\u001b[0m in \u001b[0;36m<module>\u001b[0;34m\u001b[0m\n\u001b[1;32m      1\u001b[0m \u001b[0mget_ipython\u001b[0m\u001b[0;34m(\u001b[0m\u001b[0;34m)\u001b[0m\u001b[0;34m.\u001b[0m\u001b[0msystem\u001b[0m\u001b[0;34m(\u001b[0m\u001b[0;34m'git push origin master'\u001b[0m\u001b[0;34m)\u001b[0m\u001b[0;34m\u001b[0m\u001b[0;34m\u001b[0m\u001b[0m\n\u001b[0;32m----> 2\u001b[0;31m \u001b[0mHyeonsik\u001b[0m\u001b[0;34m\u001b[0m\u001b[0;34m\u001b[0m\u001b[0m\n\u001b[0m\u001b[1;32m      3\u001b[0m \u001b[0mkhs14027\u001b[0m\u001b[0;34m\u001b[0m\u001b[0;34m\u001b[0m\u001b[0m\n",
      "\u001b[0;31mNameError\u001b[0m: name 'Hyeonsik' is not defined"
     ]
    }
   ],
   "source": [
    "!git push origin master\n",
    "Hyeonsik\n",
    "khs14027"
   ]
  }
 ],
 "metadata": {
  "kernelspec": {
   "display_name": "Python 3",
   "language": "python",
   "name": "python3"
  },
  "language_info": {
   "codemirror_mode": {
    "name": "ipython",
    "version": 3
   },
   "file_extension": ".py",
   "mimetype": "text/x-python",
   "name": "python",
   "nbconvert_exporter": "python",
   "pygments_lexer": "ipython3",
   "version": "3.6.9"
  },
  "toc": {
   "base_numbering": 1,
   "nav_menu": {},
   "number_sections": true,
   "sideBar": true,
   "skip_h1_title": false,
   "title_cell": "Table of Contents",
   "title_sidebar": "Contents",
   "toc_cell": false,
   "toc_position": {},
   "toc_section_display": true,
   "toc_window_display": false
  },
  "varInspector": {
   "cols": {
    "lenName": 16,
    "lenType": 16,
    "lenVar": 40
   },
   "kernels_config": {
    "python": {
     "delete_cmd_postfix": "",
     "delete_cmd_prefix": "del ",
     "library": "var_list.py",
     "varRefreshCmd": "print(var_dic_list())"
    },
    "r": {
     "delete_cmd_postfix": ") ",
     "delete_cmd_prefix": "rm(",
     "library": "var_list.r",
     "varRefreshCmd": "cat(var_dic_list()) "
    }
   },
   "types_to_exclude": [
    "module",
    "function",
    "builtin_function_or_method",
    "instance",
    "_Feature"
   ],
   "window_display": false
  }
 },
 "nbformat": 4,
 "nbformat_minor": 4
}
